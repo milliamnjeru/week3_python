{
 "cells": [
  {
   "cell_type": "markdown",
   "metadata": {},
   "source": [
    "##creates a list of numbers or words and then sorts the list in ascending or descending order using built-in functions like sorted or the sort method."
   ]
  },
  {
   "cell_type": "code",
   "execution_count": 2,
   "metadata": {},
   "outputs": [
    {
     "name": "stdout",
     "output_type": "stream",
     "text": [
      "Sorted list in ascending order: [1, 2, 3, 4, 6, 9, 10, 20]\n",
      "Sorted list in descending order: [20, 10, 9, 6, 4, 3, 2, 1]\n",
      "Sorted list using sort method: [1, 2, 3, 4, 6, 9, 10, 20]\n"
     ]
    }
   ],
   "source": [
    "my_list = [6,9,10,20,4,3,1,2]\n",
    "\n",
    "\n",
    "sorted_list = sorted(my_list)\n",
    "print(\"Sorted list in ascending order:\", sorted_list)\n",
    "\n",
    "\n",
    "sorted_list_desc = sorted(my_list, reverse=True)\n",
    "print(\"Sorted list in descending order:\", sorted_list_desc)\n",
    "\n",
    "my_list.sort() \n",
    "print(\"Sorted list using sort method:\", my_list)"
   ]
  },
  {
   "cell_type": "markdown",
   "metadata": {},
   "source": [
    " ##get the largest number from the following list: l1 = [43, 89, 67, 56, 12]"
   ]
  },
  {
   "cell_type": "code",
   "execution_count": 3,
   "metadata": {},
   "outputs": [
    {
     "name": "stdout",
     "output_type": "stream",
     "text": [
      "Largest number in the list: 89\n"
     ]
    }
   ],
   "source": [
    "l1 = [43, 89, 67, 56, 12]\n",
    "largest_number = max(l1)\n",
    "print(\"Largest number in the list:\", largest_number)"
   ]
  },
  {
   "cell_type": "markdown",
   "metadata": {},
   "source": [
    "##sum all the items in this list: list1 = [10,20,30,40,50]"
   ]
  },
  {
   "cell_type": "code",
   "execution_count": 4,
   "metadata": {},
   "outputs": [
    {
     "name": "stdout",
     "output_type": "stream",
     "text": [
      "Sum of all items in the list: 150\n"
     ]
    }
   ],
   "source": [
    "list1 = [10, 20, 30, 40, 50]\n",
    "total_sum = sum(list1)\n",
    "print(\"Sum of all items in the list:\", total_sum)"
   ]
  },
  {
   "cell_type": "markdown",
   "metadata": {},
   "source": [
    "##remove duplicates from the following list: list2 = [23, 45, 67, -10, 23, 50, -10]"
   ]
  },
  {
   "cell_type": "code",
   "execution_count": 5,
   "metadata": {},
   "outputs": [
    {
     "name": "stdout",
     "output_type": "stream",
     "text": [
      "List after removing duplicates: [67, 45, 50, -10, 23]\n"
     ]
    }
   ],
   "source": [
    "list2 = [23, 45, 67, -10, 23, 50, -10]\n",
    "unique_list = list(set(list2))\n",
    "print(\"List after removing duplicates:\", unique_list)"
   ]
  },
  {
   "cell_type": "markdown",
   "metadata": {},
   "source": [
    "##creates a list of numbers and then iterates through the list using a for loop, printing each element and its index."
   ]
  },
  {
   "cell_type": "code",
   "execution_count": 6,
   "metadata": {},
   "outputs": [
    {
     "name": "stdout",
     "output_type": "stream",
     "text": [
      "Index 0: 12\n",
      "Index 1: 24\n",
      "Index 2: 30\n",
      "Index 3: 40\n",
      "Index 4: 60\n"
     ]
    }
   ],
   "source": [
    "numbers = [12,24,30,40,60]\n",
    "for index, num in enumerate(numbers):\n",
    "    print(f\"Index {index}: {num}\")"
   ]
  },
  {
   "cell_type": "markdown",
   "metadata": {},
   "source": [
    "##a tuple to store a student’s name, age, and grade. Print the entire tuple."
   ]
  },
  {
   "cell_type": "code",
   "execution_count": 17,
   "metadata": {},
   "outputs": [
    {
     "name": "stdout",
     "output_type": "stream",
     "text": [
      "Student info Gakenia, 23, A\n"
     ]
    }
   ],
   "source": [
    "\n",
    "student = (\"Gakenia, 23, A\")\n",
    "print(\"Student info\",student)"
   ]
  },
  {
   "cell_type": "markdown",
   "metadata": {},
   "source": [
    "##tuple to store mathematical operators (+, -, *, /) and write a program that allows users to choose an operator and perform basic calculations with two numbers."
   ]
  },
  {
   "cell_type": "code",
   "execution_count": null,
   "metadata": {},
   "outputs": [],
   "source": [
    "\n",
    "\n",
    "\n",
    "operator = input(\"Enter an operator (+, -, *, /): \")\n",
    "num1 = float(input(\"Enter the first number: \"))\n",
    "num2 = float(input(\"Enter the second number: \"))\n",
    "\n",
    "\n",
    "if operator in operators:\n",
    "    if operator == \"+\":\n",
    "        result = num1 + num2\n",
    "    elif operator == \"-\":\n",
    "        result = num1 - num2\n",
    "    elif operator == \"*\":\n",
    "        result = num1 * num2\n",
    "    elif operator == \"/\":\n",
    "        if num2 != 0:\n",
    "            result = num1 / num2\n",
    "        else:\n",
    "            result = \"Cannot divide by zero\"\n",
    "    print(f\"Result of {num1} {operator} {num2} is:\", result)\n",
    "else:\n",
    "    print(\"Invalid operator entered.\")"
   ]
  }
 ],
 "metadata": {
  "kernelspec": {
   "display_name": "base",
   "language": "python",
   "name": "python3"
  },
  "language_info": {
   "codemirror_mode": {
    "name": "ipython",
    "version": 3
   },
   "file_extension": ".py",
   "mimetype": "text/x-python",
   "name": "python",
   "nbconvert_exporter": "python",
   "pygments_lexer": "ipython3",
   "version": "2022.10.-1"
  }
 },
 "nbformat": 4,
 "nbformat_minor": 2
}
