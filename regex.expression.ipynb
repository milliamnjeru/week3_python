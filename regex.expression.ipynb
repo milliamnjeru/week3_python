{
 "cells": [
  {
   "cell_type": "code",
   "execution_count": 2,
   "metadata": {},
   "outputs": [
    {
     "name": "stdout",
     "output_type": "stream",
     "text": [
      "The string 'i love math' contains characters other than alphanumeric.\n"
     ]
    }
   ],
   "source": [
    "import re\n",
    "\n",
    "\n",
    "def contains_only_allowed_chars(input_str):\n",
    "    \n",
    "    pattern = r\"^[a-zA-Z0-9]+$\"\n",
    "    return re.match(pattern, input_str) is not None\n",
    "\n",
    "\n",
    "\n",
    "test_string = \"i love math\"\n",
    "if contains_only_allowed_chars(test_string):\n",
    "    print(f\"The string '{test_string}' contains only alphanumeric characters.\")\n",
    "else:\n",
    "    print(f\"The string '{test_string}' contains characters other than alphanumeric.\")"
   ]
  },
  {
   "cell_type": "markdown",
   "metadata": {},
   "source": [
    "## A Python program that matches a string that has an ‘a’ followed by anything, ending in ‘b’."
   ]
  },
  {
   "cell_type": "code",
   "execution_count": 1,
   "metadata": {},
   "outputs": [
    {
     "name": "stdout",
     "output_type": "stream",
     "text": [
      "The string 'alphabet' does not match the pattern.\n"
     ]
    }
   ],
   "source": [
    "import re\n",
    "\n",
    "\n",
    "def match_pattern(input_str):\n",
    "    pattern = r\"^a.*b$\"\n",
    "    return re.match(pattern, input_str) is not None\n",
    "\n",
    "test_string = \"alphabet\"\n",
    "if match_pattern(test_string):\n",
    "    print(f\"The string '{test_string}' matches the pattern.\")\n",
    "else:\n",
    "    print(f\"The string '{test_string}' does not match the pattern.\")"
   ]
  },
  {
   "cell_type": "markdown",
   "metadata": {},
   "source": [
    "## Write a Python program that matches a string that has an ‘a’ followed by anything, ending in ‘b’.\n"
   ]
  },
  {
   "cell_type": "code",
   "execution_count": 3,
   "metadata": {},
   "outputs": [
    {
     "name": "stdout",
     "output_type": "stream",
     "text": [
      "The password 'Passw0rd' meets the criteria.\n"
     ]
    }
   ],
   "source": [
    "import re\n",
    "\n",
    "\n",
    "def validate_password(password):\n",
    "    pattern = r\"^(?=.*[a-z])(?=.*[A-Z])(?=.*\\d).{8,}$\"\n",
    "    return re.match(pattern, password) is not None\n",
    "\n",
    "\n",
    "\n",
    "test_password = \"Passw0rd\"\n",
    "if validate_password(test_password):\n",
    "    print(f\"The password '{test_password}' meets the criteria.\")\n",
    "else:\n",
    "    print(f\"The password '{test_password}' does not meet the criteria.\")"
   ]
  },
  {
   "cell_type": "markdown",
   "metadata": {},
   "source": [
    "## Write a program that uses regex to validate user input. Examples:\n",
    "Check if a password meets certain criteria (e.g., minimum length, containing uppercase and lowercase letters).\n",
    "Validate a date format (e.g., DD/MM/YYYY).\n"
   ]
  },
  {
   "cell_type": "code",
   "execution_count": 4,
   "metadata": {},
   "outputs": [
    {
     "name": "stdout",
     "output_type": "stream",
     "text": [
      "The date '31/09/2024' is in valid DD/MM/YYYY format.\n"
     ]
    }
   ],
   "source": [
    "import re\n",
    "\n",
    "\n",
    "def validate_date(date_str):\n",
    "    pattern = r\"^(0[1-9]|[12][0-9]|3[01])/(0[1-9]|1[0-2])/\\d{4}$\"\n",
    "    return re.match(pattern, date_str) is not None\n",
    "\n",
    "\n",
    "\n",
    "test_date = \"31/09/2024\"\n",
    "if validate_date(test_date):\n",
    "    print(f\"The date '{test_date}' is in valid DD/MM/YYYY format.\")\n",
    "else:\n",
    "    print(f\"The date '{test_date}' is not in valid DD/MM/YYYY format.\")"
   ]
  },
  {
   "cell_type": "markdown",
   "metadata": {},
   "source": [
    "## Write a program that uses regex to extract specific information from a string. Examples:\n",
    "- Extract email addresses: Find all strings containing “@” and a dot (.).\n",
    "- Extract phone numbers: Find all strings with a specific format (e.g., XXX-XXX-XXXX)."
   ]
  },
  {
   "cell_type": "code",
   "execution_count": 5,
   "metadata": {},
   "outputs": [
    {
     "name": "stdout",
     "output_type": "stream",
     "text": [
      "Email addresses found: ['email@example.com']\n",
      "Phone numbers found: ['123-456-7890']\n"
     ]
    }
   ],
   "source": [
    "import re\n",
    "\n",
    "\n",
    "input_text = (\n",
    "    \"Contact us at email@example.com or call 123-456-7890 for more information.\"\n",
    ")\n",
    "\n",
    "\n",
    "email_addresses = re.findall(\n",
    "    r\"\\b[A-Za-z0-9._%+-]+@[A-Za-z0-9.-]+\\.[A-Z|a-z]{2,}\\b\", input_text\n",
    ")\n",
    "print(\"Email addresses found:\", email_addresses)\n",
    "\n",
    "# Extract phone numbers using regex\n",
    "phone_numbers = re.findall(r\"\\b\\d{3}-\\d{3}-\\d{4}\\b\", input_text)\n",
    "print(\"Phone numbers found:\", phone_numbers)"
   ]
  },
  {
   "cell_type": "markdown",
   "metadata": {},
   "source": [
    "## Write a program that uses regex to search for and replace text in a string. Example:\n",
    "- Replace all occurrences of “Mr.” with “Ms.”: text.replace(r”Mr.”, “Ms.”) (r prefix for raw string)"
   ]
  },
  {
   "cell_type": "code",
   "execution_count": 8,
   "metadata": {},
   "outputs": [
    {
     "name": "stdout",
     "output_type": "stream",
     "text": [
      "Original text: Mr.john and ms.joe doe met at the Delloite \n",
      "Modified text: Ms.john and ms.joe doe met at the Delloite \n"
     ]
    }
   ],
   "source": [
    "import re\n",
    "\n",
    "\n",
    "input_text = \"Mr.john and ms.joe doe met at the Delloite \"\n",
    "\n",
    "\n",
    "modified_text = re.sub(r'\\bMr\\.\\b', 'Ms.', input_text)\n",
    "print(\"Original text:\", input_text)\n",
    "print(\"Modified text:\", modified_text)\n"
   ]
  }
 ],
 "metadata": {
  "kernelspec": {
   "display_name": "base",
   "language": "python",
   "name": "python3"
  },
  "language_info": {
   "codemirror_mode": {
    "name": "ipython",
    "version": 3
   },
   "file_extension": ".py",
   "mimetype": "text/x-python",
   "name": "python",
   "nbconvert_exporter": "python",
   "pygments_lexer": "ipython3",
   "version": "3.9.13"
  }
 },
 "nbformat": 4,
 "nbformat_minor": 2
}
