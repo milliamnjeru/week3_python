{
 "cells": [
  {
   "cell_type": "markdown",
   "metadata": {},
   "source": [
    "#  A  program that writes a sentence and prints words in asentence"
   ]
  },
  {
   "cell_type": "code",
   "execution_count": 16,
   "metadata": {},
   "outputs": [
    {
     "name": "stdout",
     "output_type": "stream",
     "text": [
      "we reject finance bill\n",
      "Number of words in the sentence: 4\n"
     ]
    }
   ],
   "source": [
    "sentence = input(\"Enter a sentence: \")\n",
    "word_count = count_words(sentence)\n",
    "def count_words(sentence):\n",
    "    words = sentence.split()\n",
    "    return len(words)\n",
    "print(sentence)\n",
    "print(f\"Number of words in the sentence: {word_count}\")"
   ]
  },
  {
   "cell_type": "markdown",
   "metadata": {},
   "source": [
    "# aprogram that checks if two given strings are anagrams of each other."
   ]
  },
  {
   "cell_type": "markdown",
   "metadata": {},
   "source": [
    "##anagrams are words or names formed by rearranging the letters of others\n"
   ]
  },
  {
   "cell_type": "code",
   "execution_count": 18,
   "metadata": {},
   "outputs": [
    {
     "name": "stdout",
     "output_type": "stream",
     "text": [
      "a gentlenam and elegant man are anagrams.\n"
     ]
    }
   ],
   "source": [
    "string1 = input(\"Enter the first string: \")\n",
    "string2 = input(\"Enter the second string: \")\n",
    "\n",
    "def are_anagrams(str1, str2):\n",
    "    \n",
    "    str1 = str1.replace(\" \", \"\").lower()\n",
    "    str2 = str2.replace(\" \", \"\").lower()\n",
    "    return sorted(str1) == sorted(str2)\n",
    "\n",
    "\n",
    "if are_anagrams(string1, string2):\n",
    "    print(f\"{string1} and {string2} are anagrams.\")\n",
    "else:\n",
    "    print(f\"{string1} and {string2} are not anagrams.\")"
   ]
  },
  {
   "cell_type": "markdown",
   "metadata": {},
   "source": [
    "##a program that takes a string as input from the user and checks if it’s a palindrome (reads the same backward as forward). Ignore case sensitivity and punctuation."
   ]
  },
  {
   "cell_type": "markdown",
   "metadata": {},
   "source": [
    "##a palindrome is a word or number that read in its backword of forward is same"
   ]
  },
  {
   "cell_type": "code",
   "execution_count": 23,
   "metadata": {},
   "outputs": [
    {
     "name": "stdout",
     "output_type": "stream",
     "text": [
      "111 is a palindrome.\n"
     ]
    }
   ],
   "source": [
    "user_input = input(\"Enter a string to check if it's a palindrome: \")\n",
    "def is_palindrome(input_string):\n",
    "    cleaned_string = \"\".join(char.lower() for char in input_string if char.isalnum())\n",
    "    return cleaned_string == cleaned_string[::-1]\n",
    "\n",
    "if is_palindrome(user_input):\n",
    "    print(f\"{user_input} is a palindrome.\")\n",
    "else:\n",
    "    print(f\"{user_input} is not a palindrome.\")"
   ]
  },
  {
   "cell_type": "markdown",
   "metadata": {},
   "source": [
    "##a program that opens an existing text file, reads its contents, and creates a new file with a different name, writing the copied content to the new file."
   ]
  },
  {
   "cell_type": "code",
   "execution_count": 28,
   "metadata": {},
   "outputs": [
    {
     "name": "stdout",
     "output_type": "stream",
     "text": [
      "refer is a palindrome.\n"
     ]
    }
   ],
   "source": [
    "user_input = input(\"Enter a string to check if it's a palindrome: \")\n",
    "def is_palindrome(input_string):\n",
    "    cleaned_string = \"\".join(char.lower() for char in input_string if char.isalnum())\n",
    "    return cleaned_string == cleaned_string[::-1]\n",
    "\n",
    "if is_palindrome(user_input):\n",
    "    print(f\"{user_input} is a palindrome.\")\n",
    "else:\n",
    "    print(f\"{user_input} is not a palindrome.\")"
   ]
  },
  {
   "cell_type": "markdown",
   "metadata": {},
   "source": [
    "##a program that opens a text file and iterates through each line using a for loop, printing each line separately."
   ]
  },
  {
   "cell_type": "code",
   "execution_count": null,
   "metadata": {},
   "outputs": [],
   "source": [
    "source_file = \"source.txt\"  \n",
    "destination_file = \"destination.txt\"\n",
    "copy_file(source_file, destination_file)\n",
    "def copy_file(source_file, destination_file):\n",
    "    try:\n",
    "        with open(source_file, \"r\") as f_source:\n",
    "            with open(destination_file, \"w\") as f_dest:\n",
    "                for line in f_source:\n",
    "                    f_dest.write(line)\n",
    "        print(f\"Contents copied from {source_file} to {destination_file} successfully.\")\n",
    "    except FileNotFoundError:\n",
    "        print(f\"Error: File {source_file} not found.\")\n",
    "\n"
   ]
  }
 ],
 "metadata": {
  "kernelspec": {
   "display_name": "base",
   "language": "python",
   "name": "python3"
  },
  "language_info": {
   "codemirror_mode": {
    "name": "ipython",
    "version": 3
   },
   "file_extension": ".py",
   "mimetype": "text/x-python",
   "name": "python",
   "nbconvert_exporter": "python",
   "pygments_lexer": "ipython3",
   "version": "2022.10.-1"
  }
 },
 "nbformat": 4,
 "nbformat_minor": 2
}
